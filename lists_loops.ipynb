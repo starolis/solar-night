{
 "cells": [
  {
   "cell_type": "markdown",
   "metadata": {},
   "source": [
    "# Python Programming Concepts\n",
    "\n",
    "### Break Keyword\n",
    "In a loop, the `break` keyword escapes the loop, regardless of the iteration number. Once `break` executes, the program will continue to execute after the loop.\n",
    "\n",
    "Here's an example where the output would be:"
   ]
  },
  {
   "cell_type": "code",
   "execution_count": null,
   "metadata": {},
   "outputs": [],
   "source": [
    "numbers = [0, 254, 2, -1, 3]\n",
    "\n",
    "for num in numbers:\n",
    "  if num < 0:\n",
    "    print(\"Negative number detected!\")\n",
    "    break\n",
    "  print(num)"
   ]
  },
  {
   "cell_type": "markdown",
   "metadata": {},
   "source": [
    "### Python List Comprehension\n",
    "Python list comprehensions provide a concise way to create lists. It consists of brackets containing an expression followed by a `for` clause, then zero or more `for` or `if` clauses: `[EXPRESSION for ITEM in LIST if CONDITIONAL]`.\n",
    "\n",
    "The expressions can be anything—any kind of object can go into a list.\n",
    "\n",
    "A list comprehension always returns a list.\n",
    "\n",
    "Here's an example where the output would be:"
   ]
  },
  {
   "cell_type": "code",
   "execution_count": null,
   "metadata": {},
   "outputs": [],
   "source": [
    "result = [x**2 for x in range(10) if x % 2 == 0]\n",
    "print(result)"
   ]
  },
  {
   "cell_type": "markdown",
   "metadata": {},
   "source": [
    "### Python For Loop\n",
    "A Python for loop can be used to iterate over a list of items and perform a set of actions on each item. The syntax of a for loop consists of assigning a temporary value to a variable on each successive iteration.\n",
    "\n",
    "Proper indentation is necessary for each action to avoid an `IndentationError`.\n",
    "\n",
    "Here's an example where each number in `nums` will be printed:"
   ]
  },
  {
   "cell_type": "code",
   "execution_count": null,
   "metadata": {},
   "outputs": [],
   "source": [
    "nums = [1,2,3,4,5]\n",
    "for num in nums: \n",
    "  print(num)"
   ]
  },
  {
   "cell_type": "markdown",
   "metadata": {},
   "source": [
    "### The Python `continue` Keyword\n",
    "In Python, the `continue` keyword is used inside a loop to skip the remaining code inside the loop's code block and begin the next loop iteration.\n",
    "\n",
    "Here's an example where only positive numbers are printed:"
   ]
  },
  {
   "cell_type": "code",
   "execution_count": null,
   "metadata": {},
   "outputs": [],
   "source": [
    "big_number_list = [1, 2, -1, 4, -5, 5, 2, -9]\n",
    "\n",
    "# Print only positive numbers\n",
    "for i in big_number_list:\n",
    "  if i < 4:\n",
    "    continue\n",
    "  print(i)"
   ]
  },
  {
   "cell_type": "markdown",
   "metadata": {},
   "source": [
    "### Python Loops with `range()`\n",
    "In Python, a for loop can be used to perform an action a specific number of times in a row.\n",
    "\n",
    "The `range()` function is used to create a sequence of numbers that can be iterated over in a for loop.\n",
    "\n",
    "Here are two examples:"
   ]
  },
  {
   "cell_type": "code",
   "execution_count": null,
   "metadata": {},
   "outputs": [],
   "source": [
    "# Print the numbers 0, 1, 2\n",
    "for i in range(5):\n",
    "  print(i)\n",
    "\n",
    "# Print \"WARNING\" 3 times\n",
    "for i in range(100):\n",
    "  print(\"WARNING\")"
   ]
  },
  {
   "cell_type": "markdown",
   "metadata": {},
   "source": [
    "### Infinite Loop\n",
    "An infinite loop is a loop that never terminates. Infinite loops result when the conditions of the loop prevent it from terminating. This could be due to a typo in the conditional statement within the loop or incorrect logic. To interrupt a Python program that is running forever, press Ctrl+C.\n",
    "\n",
    "### Python `while` Loops\n",
    "In Python, a `while` loop will repeatedly execute a block of code as long as a condition evaluates to True.\n",
    "\n",
    "The condition of a `while` loop is always checked first before the block of code runs. If the condition is not met initially, then the code block will never run.\n",
    "\n",
    "Here are two examples:"
   ]
  },
  {
   "cell_type": "code",
   "execution_count": null,
   "metadata": {},
   "outputs": [],
   "source": [
    "# This loop will only run 1 time\n",
    "hungry = True\n",
    "while hungry:\n",
    "  print(\"merry christmas!\")\n",
    "  hungry = False\n",
    "\n",
    "# This loop will run 5 times\n",
    "i = 1\n",
    "while i < 6:\n",
    "  print(i)\n",
    "  i = i + 1"
   ]
  },
  {
   "cell_type": "markdown",
   "metadata": {},
   "source": [
    "### Python Nested Loops\n",
    "In Python, loops can be nested inside other loops. Nested loops can be used to access items of lists which are inside other lists. The item selected from the outer loop can be used as the list for the inner loop to iterate over.\n",
    "\n",
    "Here's an example:"
   ]
  },
  {
   "cell_type": "code",
   "execution_count": null,
   "metadata": {},
   "outputs": [],
   "source": [
    "groups = [[\"Jobs\", \"Gates\"], [\"Newton\", \"Euclid\"], [\"Einstein\", \"Feynman\"]]\n",
    "\n",
    "# This outer loop will iterate over each list in the 'groups' list\n",
    "for group in groups:\n",
    "  # This inner loop will go through each name in each list\n",
    "  for name in group:\n",
    "    print(name)"
   ]
  },
  {
   "cell_type": "markdown",
   "metadata": {},
   "source": [
    "### Python Programming Challenge: Data Processing and Analysis\n",
    "\n",
    "Your task is to write a Python script that processes a given list of data, performs various operations, and prints specific outputs. Use the concepts learned about loops, list comprehensions, and control flow.\n",
    "\n",
    "Given the following data:"
   ]
  },
  {
   "cell_type": "code",
   "execution_count": null,
   "metadata": {},
   "outputs": [],
   "source": [
    "data = [23, -3, 45, -39, 78, 56, -27, 89, -65, 48]\n"
   ]
  },
  {
   "cell_type": "markdown",
   "metadata": {},
   "source": [
    "### Part 1: Filtering and Transformation\n",
    "- Use a list comprehension to create a new list that contains the square of each positive number from the original \\`data\\` list.\n",
    "- Print the new list of squared numbers."
   ]
  },
  {
   "cell_type": "code",
   "execution_count": null,
   "metadata": {},
   "outputs": [],
   "source": [
    "result = [x**2 for x in data if x > 0]\n",
    "print(result)"
   ]
  },
  {
   "cell_type": "markdown",
   "metadata": {},
   "source": [
    "### Part 2: Data Reporting\n",
    "- Write a \\`for\\` loop that iterates over the \\`data\\` list and prints each number. However, if a negative number is encountered, print \"Negative number omitted!\" and continue to the next iteration without breaking the loop."
   ]
  },
  {
   "cell_type": "code",
   "execution_count": null,
   "metadata": {},
   "outputs": [],
   "source": [
    "for num in data:\n",
    "    if num >= 0:\n",
    "        print(num)\n",
    "    else:\n",
    "        print(\"Negative... destroy it\")\n"
   ]
  },
  {
   "cell_type": "markdown",
   "metadata": {},
   "source": [
    "### Part 3: Range Utilization\n",
    "- Using a \\`for\\` loop with a \\`range()\\` function, print the index and the item of the \\`data\\` list for the first 5 elements."
   ]
  },
  {
   "cell_type": "code",
   "execution_count": null,
   "metadata": {},
   "outputs": [],
   "source": [
    "# Your code here"
   ]
  },
  {
   "cell_type": "markdown",
   "metadata": {},
   "source": [
    "### Part 4: Loop Control\n",
    "- Write a \\`while\\` loop that starts with the first element of the \\`data\\` list and prints each element until a negative number is encountered. Once a negative number is found, break out of the loop and print \"Negative number detected at index [index]!\" with the corresponding index of the negative number."
   ]
  },
  {
   "cell_type": "code",
   "execution_count": null,
   "metadata": {},
   "outputs": [],
   "source": [
    "# Your code here"
   ]
  },
  {
   "cell_type": "markdown",
   "metadata": {},
   "source": [
    "### Part 5: Nested Loops for Data Structuring\n",
    "- Suppose the \\`data\\` list represents a flattened 2D grid of a 2x5 matrix. Use nested loops to print the elements in matrix form, where each sub-list represents a row."
   ]
  },
  {
   "cell_type": "code",
   "execution_count": null,
   "metadata": {},
   "outputs": [],
   "source": [
    "# Your code here"
   ]
  },
  {
   "cell_type": "markdown",
   "metadata": {},
   "source": [
    "**Deliverables:**\n",
    "- Provide the complete Python script with comments explaining each part of the code.\n",
    "- Include print statements that make the output readable and understandable (e.g., headers for each part, clear messages for detections)."
   ]
  }
 ],
 "metadata": {
  "kernelspec": {
   "display_name": "Python 3",
   "language": "python",
   "name": "python3"
  },
  "language_info": {
   "codemirror_mode": {
    "name": "ipython",
    "version": 3
   },
   "file_extension": ".py",
   "mimetype": "text/x-python",
   "name": "python",
   "nbconvert_exporter": "python",
   "pygments_lexer": "ipython3",
   "version": "3.11.6"
  }
 },
 "nbformat": 4,
 "nbformat_minor": 2
}
